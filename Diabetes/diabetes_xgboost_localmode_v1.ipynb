{
 "cells": [
  {
   "cell_type": "markdown",
   "metadata": {},
   "source": [
    "# Diabetes XGBoost Local Mode\n",
    "    Predict whether or not a person is at risk of developing diabetes\n",
    "    Data Prep technique used was just imputation with mean by each group based on diabetes class\n",
    "    \n",
    "    XGBoost Training Parameters Source - https://xgboost.readthedocs.io/en/latest/parameter.html"
   ]
  },
  {
   "cell_type": "code",
   "execution_count": 1,
   "metadata": {},
   "outputs": [
    {
     "name": "stdout",
     "output_type": "stream",
     "text": [
      "Collecting package metadata (current_repodata.json): done\n",
      "Solving environment: done\n",
      "\n",
      "\n",
      "==> WARNING: A newer version of conda exists. <==\n",
      "  current version: 4.9.0\n",
      "  latest version: 4.9.2\n",
      "\n",
      "Please update conda by running\n",
      "\n",
      "    $ conda update -n base conda\n",
      "\n",
      "\n",
      "\n",
      "## Package Plan ##\n",
      "\n",
      "  environment location: /opt/anaconda3/envs/ml_conda37\n",
      "\n",
      "  added / updated specs:\n",
      "    - xgboost\n",
      "\n",
      "\n",
      "The following packages will be downloaded:\n",
      "\n",
      "    package                    |            build\n",
      "    ---------------------------|-----------------\n",
      "    certifi-2020.11.8          |   py37hf985489_0         150 KB  conda-forge\n",
      "    ------------------------------------------------------------\n",
      "                                           Total:         150 KB\n",
      "\n",
      "The following packages will be UPDATED:\n",
      "\n",
      "  ca-certificates                      2020.6.20-hecda079_0 --> 2020.11.8-h033912b_0\n",
      "  certifi                          2020.6.20-py37h2987424_2 --> 2020.11.8-py37hf985489_0\n",
      "\n",
      "\n",
      "\n",
      "Downloading and Extracting Packages\n",
      "certifi-2020.11.8    | 150 KB    | ##################################### | 100% \n",
      "Preparing transaction: done\n",
      "Verifying transaction: done\n",
      "Executing transaction: done\n"
     ]
    }
   ],
   "source": [
    "# Command to install the below commands\n",
    "# !conda install -c anaconda scikit-learn\n",
    "!conda install -y -c conda-forge xgboost"
   ]
  },
  {
   "cell_type": "code",
   "execution_count": 10,
   "metadata": {},
   "outputs": [],
   "source": [
    "import sys\n",
    "import numpy as np\n",
    "import pandas as pd\n",
    "import matplotlib.pyplot as plt\n",
    "import itertools\n",
    "import xgboost as xgb\n",
    "from sklearn.metrics import classification_report, confusion_matrix\n",
    "import pickle\n"
   ]
  },
  {
   "cell_type": "code",
   "execution_count": 11,
   "metadata": {},
   "outputs": [],
   "source": [
    "column_list_file = './Files/diabetes_train_column_list.txt'\n",
    "train_file = './Files/diabetes_train.csv'\n",
    "validation_file = './Files/diabetes_validation.csv'\n"
   ]
  },
  {
   "cell_type": "code",
   "execution_count": 12,
   "metadata": {},
   "outputs": [],
   "source": [
    "## Added in and made some changes for Kaggle Submission"
   ]
  },
  {
   "cell_type": "code",
   "execution_count": 13,
   "metadata": {},
   "outputs": [],
   "source": [
    "\n",
    "# test_file = './diabetes-classification/test.csv'\n",
    "# submission_file = './diabetes-classification/sample_submission.csv'\n",
    "# kaggle_train_file = './diabetes-classification/train.csv'\n",
    "\n",
    "# test = pd.read_csv(test_file,index_col = 'p_id')\n",
    "# train = pd.read_csv(kaggle_train_file,index_col = 'p_id')\n",
    "# submission = pd.read_csv(submission_file,index_col = 'p_id')\n",
    "\n"
   ]
  },
  {
   "cell_type": "markdown",
   "metadata": {},
   "source": [
    "## Extract Training, Validation files and Columns"
   ]
  },
  {
   "cell_type": "code",
   "execution_count": 14,
   "metadata": {},
   "outputs": [
    {
     "data": {
      "text/plain": [
       "['diabetes_class',\n",
       " 'preg_count',\n",
       " 'glucose_concentration',\n",
       " 'diastolic_bp',\n",
       " 'triceps_skin_fold_thickness',\n",
       " 'two_hr_serum_insulin',\n",
       " 'bmi',\n",
       " 'diabetes_pedi',\n",
       " 'age']"
      ]
     },
     "execution_count": 14,
     "metadata": {},
     "output_type": "execute_result"
    }
   ],
   "source": [
    "\n",
    "with open(column_list_file,'r') as f:\n",
    "    columns = f.read().split(',')\n",
    "    \n",
    "columns\n",
    "\n",
    "\n"
   ]
  },
  {
   "cell_type": "code",
   "execution_count": 15,
   "metadata": {},
   "outputs": [
    {
     "name": "stdout",
     "output_type": "stream",
     "text": [
      "(537, 9)\n",
      "(231, 9)\n"
     ]
    }
   ],
   "source": [
    "\n",
    "df_train = pd.read_csv(train_file, names=columns)\n",
    "\n",
    "df_validation = pd.read_csv(validation_file,names=columns)\n",
    "print(df_train.shape)\n",
    "\n",
    "print(df_validation.shape)"
   ]
  },
  {
   "cell_type": "code",
   "execution_count": 16,
   "metadata": {},
   "outputs": [
    {
     "name": "stdout",
     "output_type": "stream",
     "text": [
      "(537, 8)\n",
      "(537,)\n",
      "(231, 8)\n",
      "(231,)\n"
     ]
    },
    {
     "data": {
      "text/html": [
       "<div>\n",
       "<style scoped>\n",
       "    .dataframe tbody tr th:only-of-type {\n",
       "        vertical-align: middle;\n",
       "    }\n",
       "\n",
       "    .dataframe tbody tr th {\n",
       "        vertical-align: top;\n",
       "    }\n",
       "\n",
       "    .dataframe thead th {\n",
       "        text-align: right;\n",
       "    }\n",
       "</style>\n",
       "<table border=\"1\" class=\"dataframe\">\n",
       "  <thead>\n",
       "    <tr style=\"text-align: right;\">\n",
       "      <th></th>\n",
       "      <th>preg_count</th>\n",
       "      <th>glucose_concentration</th>\n",
       "      <th>diastolic_bp</th>\n",
       "      <th>triceps_skin_fold_thickness</th>\n",
       "      <th>two_hr_serum_insulin</th>\n",
       "      <th>bmi</th>\n",
       "      <th>diabetes_pedi</th>\n",
       "      <th>age</th>\n",
       "    </tr>\n",
       "  </thead>\n",
       "  <tbody>\n",
       "    <tr>\n",
       "      <th>0</th>\n",
       "      <td>1.000</td>\n",
       "      <td>130.0</td>\n",
       "      <td>70.0</td>\n",
       "      <td>13.000000</td>\n",
       "      <td>105.000000</td>\n",
       "      <td>25.9</td>\n",
       "      <td>0.472</td>\n",
       "      <td>22</td>\n",
       "    </tr>\n",
       "    <tr>\n",
       "      <th>1</th>\n",
       "      <td>8.000</td>\n",
       "      <td>133.0</td>\n",
       "      <td>72.0</td>\n",
       "      <td>22.164179</td>\n",
       "      <td>100.335821</td>\n",
       "      <td>32.9</td>\n",
       "      <td>0.270</td>\n",
       "      <td>39</td>\n",
       "    </tr>\n",
       "    <tr>\n",
       "      <th>2</th>\n",
       "      <td>3.298</td>\n",
       "      <td>137.0</td>\n",
       "      <td>68.0</td>\n",
       "      <td>14.000000</td>\n",
       "      <td>148.000000</td>\n",
       "      <td>24.8</td>\n",
       "      <td>0.143</td>\n",
       "      <td>21</td>\n",
       "    </tr>\n",
       "    <tr>\n",
       "      <th>3</th>\n",
       "      <td>2.000</td>\n",
       "      <td>88.0</td>\n",
       "      <td>74.0</td>\n",
       "      <td>19.000000</td>\n",
       "      <td>53.000000</td>\n",
       "      <td>29.0</td>\n",
       "      <td>0.229</td>\n",
       "      <td>22</td>\n",
       "    </tr>\n",
       "    <tr>\n",
       "      <th>4</th>\n",
       "      <td>9.000</td>\n",
       "      <td>130.0</td>\n",
       "      <td>70.0</td>\n",
       "      <td>22.164179</td>\n",
       "      <td>100.335821</td>\n",
       "      <td>34.2</td>\n",
       "      <td>0.652</td>\n",
       "      <td>45</td>\n",
       "    </tr>\n",
       "  </tbody>\n",
       "</table>\n",
       "</div>"
      ],
      "text/plain": [
       "   preg_count  glucose_concentration  diastolic_bp  \\\n",
       "0       1.000                  130.0          70.0   \n",
       "1       8.000                  133.0          72.0   \n",
       "2       3.298                  137.0          68.0   \n",
       "3       2.000                   88.0          74.0   \n",
       "4       9.000                  130.0          70.0   \n",
       "\n",
       "   triceps_skin_fold_thickness  two_hr_serum_insulin   bmi  diabetes_pedi  age  \n",
       "0                    13.000000            105.000000  25.9          0.472   22  \n",
       "1                    22.164179            100.335821  32.9          0.270   39  \n",
       "2                    14.000000            148.000000  24.8          0.143   21  \n",
       "3                    19.000000             53.000000  29.0          0.229   22  \n",
       "4                    22.164179            100.335821  34.2          0.652   45  "
      ]
     },
     "execution_count": 16,
     "metadata": {},
     "output_type": "execute_result"
    }
   ],
   "source": [
    "# Remember to Flatten target to 1D array with ravel()\n",
    "X_train = df_train.iloc[:,1:]\n",
    "y_train = df_train.iloc[:,0].ravel()\n",
    "\n",
    "X_valid = df_validation.iloc[:,1:]\n",
    "y_valid = df_validation.iloc[:,0].ravel()\n",
    "\n",
    "print(X_train.shape)\n",
    "print(y_train.shape)\n",
    "\n",
    "print(X_valid.shape)\n",
    "print(y_valid.shape)\n",
    "X_valid.head()"
   ]
  },
  {
   "cell_type": "code",
   "execution_count": 17,
   "metadata": {},
   "outputs": [
    {
     "data": {
      "text/plain": [
       "XGBClassifier(base_score=None, booster=None, colsample_bylevel=None,\n",
       "              colsample_bynode=None, colsample_bytree=None, gamma=None,\n",
       "              gpu_id=None, importance_type='gain', interaction_constraints=None,\n",
       "              learning_rate=None, max_delta_step=None, max_depth=None,\n",
       "              min_child_weight=None, missing=nan, monotone_constraints=None,\n",
       "              n_estimators=100, n_jobs=None, num_parallel_tree=None,\n",
       "              random_state=None, reg_alpha=None, reg_lambda=None,\n",
       "              scale_pos_weight=None, subsample=None, tree_method=None,\n",
       "              validate_parameters=None, verbosity=None)"
      ]
     },
     "execution_count": 17,
     "metadata": {},
     "output_type": "execute_result"
    }
   ],
   "source": [
    "classifier = xgb.XGBClassifier(objective=\"binary:logistic\")\n",
    "classifier"
   ]
  },
  {
   "cell_type": "code",
   "execution_count": 18,
   "metadata": {},
   "outputs": [
    {
     "name": "stdout",
     "output_type": "stream",
     "text": [
      "[0]\tvalidation_0-logloss:0.49731\tvalidation_1-logloss:0.53781\n",
      "Multiple eval metrics have been passed: 'validation_1-logloss' will be used for early stopping.\n",
      "\n",
      "Will train until validation_1-logloss hasn't improved in 20 rounds.\n",
      "[1]\tvalidation_0-logloss:0.38423\tvalidation_1-logloss:0.43889\n",
      "[2]\tvalidation_0-logloss:0.31019\tvalidation_1-logloss:0.38287\n",
      "[3]\tvalidation_0-logloss:0.25777\tvalidation_1-logloss:0.34811\n",
      "[4]\tvalidation_0-logloss:0.21643\tvalidation_1-logloss:0.32662\n",
      "[5]\tvalidation_0-logloss:0.18654\tvalidation_1-logloss:0.31760\n",
      "[6]\tvalidation_0-logloss:0.16496\tvalidation_1-logloss:0.30746\n",
      "[7]\tvalidation_0-logloss:0.14842\tvalidation_1-logloss:0.29776\n",
      "[8]\tvalidation_0-logloss:0.13510\tvalidation_1-logloss:0.29316\n",
      "[9]\tvalidation_0-logloss:0.12093\tvalidation_1-logloss:0.29512\n",
      "[10]\tvalidation_0-logloss:0.10942\tvalidation_1-logloss:0.28657\n",
      "[11]\tvalidation_0-logloss:0.10401\tvalidation_1-logloss:0.28426\n",
      "[12]\tvalidation_0-logloss:0.09509\tvalidation_1-logloss:0.28488\n",
      "[13]\tvalidation_0-logloss:0.08787\tvalidation_1-logloss:0.28503\n",
      "[14]\tvalidation_0-logloss:0.08324\tvalidation_1-logloss:0.28639\n",
      "[15]\tvalidation_0-logloss:0.07746\tvalidation_1-logloss:0.28680\n",
      "[16]\tvalidation_0-logloss:0.07268\tvalidation_1-logloss:0.29116\n",
      "[17]\tvalidation_0-logloss:0.06895\tvalidation_1-logloss:0.29062\n",
      "[18]\tvalidation_0-logloss:0.06488\tvalidation_1-logloss:0.28669\n",
      "[19]\tvalidation_0-logloss:0.06190\tvalidation_1-logloss:0.28737\n",
      "[20]\tvalidation_0-logloss:0.05825\tvalidation_1-logloss:0.28534\n",
      "[21]\tvalidation_0-logloss:0.05564\tvalidation_1-logloss:0.28472\n",
      "[22]\tvalidation_0-logloss:0.05239\tvalidation_1-logloss:0.28464\n",
      "[23]\tvalidation_0-logloss:0.05032\tvalidation_1-logloss:0.28758\n",
      "[24]\tvalidation_0-logloss:0.04879\tvalidation_1-logloss:0.28898\n",
      "[25]\tvalidation_0-logloss:0.04615\tvalidation_1-logloss:0.28601\n",
      "[26]\tvalidation_0-logloss:0.04437\tvalidation_1-logloss:0.28911\n",
      "[27]\tvalidation_0-logloss:0.04270\tvalidation_1-logloss:0.28921\n",
      "[28]\tvalidation_0-logloss:0.04005\tvalidation_1-logloss:0.28760\n",
      "[29]\tvalidation_0-logloss:0.03834\tvalidation_1-logloss:0.28662\n",
      "[30]\tvalidation_0-logloss:0.03654\tvalidation_1-logloss:0.28343\n",
      "[31]\tvalidation_0-logloss:0.03514\tvalidation_1-logloss:0.28546\n",
      "[32]\tvalidation_0-logloss:0.03405\tvalidation_1-logloss:0.28620\n",
      "[33]\tvalidation_0-logloss:0.03274\tvalidation_1-logloss:0.28747\n",
      "[34]\tvalidation_0-logloss:0.03158\tvalidation_1-logloss:0.29030\n",
      "[35]\tvalidation_0-logloss:0.03046\tvalidation_1-logloss:0.29095\n",
      "[36]\tvalidation_0-logloss:0.02958\tvalidation_1-logloss:0.29324\n",
      "[37]\tvalidation_0-logloss:0.02892\tvalidation_1-logloss:0.29258\n",
      "[38]\tvalidation_0-logloss:0.02798\tvalidation_1-logloss:0.29708\n",
      "[39]\tvalidation_0-logloss:0.02739\tvalidation_1-logloss:0.29753\n",
      "[40]\tvalidation_0-logloss:0.02682\tvalidation_1-logloss:0.29727\n",
      "[41]\tvalidation_0-logloss:0.02606\tvalidation_1-logloss:0.29945\n",
      "[42]\tvalidation_0-logloss:0.02546\tvalidation_1-logloss:0.29925\n",
      "[43]\tvalidation_0-logloss:0.02490\tvalidation_1-logloss:0.30007\n",
      "[44]\tvalidation_0-logloss:0.02452\tvalidation_1-logloss:0.29989\n",
      "[45]\tvalidation_0-logloss:0.02413\tvalidation_1-logloss:0.29995\n",
      "[46]\tvalidation_0-logloss:0.02357\tvalidation_1-logloss:0.30100\n",
      "[47]\tvalidation_0-logloss:0.02299\tvalidation_1-logloss:0.29923\n",
      "[48]\tvalidation_0-logloss:0.02246\tvalidation_1-logloss:0.29990\n",
      "[49]\tvalidation_0-logloss:0.02197\tvalidation_1-logloss:0.30367\n",
      "[50]\tvalidation_0-logloss:0.02147\tvalidation_1-logloss:0.30565\n",
      "Stopping. Best iteration:\n",
      "[30]\tvalidation_0-logloss:0.03654\tvalidation_1-logloss:0.28343\n",
      "\n"
     ]
    },
    {
     "data": {
      "text/plain": [
       "XGBClassifier(base_score=0.5, booster='gbtree', colsample_bylevel=1,\n",
       "              colsample_bynode=1, colsample_bytree=1, gamma=0, gpu_id=-1,\n",
       "              importance_type='gain', interaction_constraints='',\n",
       "              learning_rate=0.300000012, max_delta_step=0, max_depth=6,\n",
       "              min_child_weight=1, missing=nan, monotone_constraints='()',\n",
       "              n_estimators=100, n_jobs=0, num_parallel_tree=1, random_state=0,\n",
       "              reg_alpha=0, reg_lambda=1, scale_pos_weight=1, subsample=1,\n",
       "              tree_method='exact', validate_parameters=1, verbosity=None)"
      ]
     },
     "execution_count": 18,
     "metadata": {},
     "output_type": "execute_result"
    }
   ],
   "source": [
    "classifier.fit(X_train,\n",
    "               y_train, \n",
    "               eval_set = [(X_train, y_train), (X_valid, y_valid)], \n",
    "               eval_metric=['logloss'],\n",
    "               early_stopping_rounds= 20)\n",
    "\n",
    "               "
   ]
  },
  {
   "cell_type": "code",
   "execution_count": 19,
   "metadata": {},
   "outputs": [
    {
     "data": {
      "text/plain": [
       "{'validation_0': {'logloss': [0.497314,\n",
       "   0.384231,\n",
       "   0.310187,\n",
       "   0.257765,\n",
       "   0.216435,\n",
       "   0.186544,\n",
       "   0.164964,\n",
       "   0.148422,\n",
       "   0.135098,\n",
       "   0.120925,\n",
       "   0.109419,\n",
       "   0.104005,\n",
       "   0.095093,\n",
       "   0.087871,\n",
       "   0.083241,\n",
       "   0.077463,\n",
       "   0.07268,\n",
       "   0.068947,\n",
       "   0.064882,\n",
       "   0.061904,\n",
       "   0.058246,\n",
       "   0.055636,\n",
       "   0.052385,\n",
       "   0.050324,\n",
       "   0.048791,\n",
       "   0.046149,\n",
       "   0.044374,\n",
       "   0.042705,\n",
       "   0.04005,\n",
       "   0.03834,\n",
       "   0.036537,\n",
       "   0.035139,\n",
       "   0.03405,\n",
       "   0.032736,\n",
       "   0.031583,\n",
       "   0.030456,\n",
       "   0.02958,\n",
       "   0.02892,\n",
       "   0.02798,\n",
       "   0.027392,\n",
       "   0.026824,\n",
       "   0.026062,\n",
       "   0.02546,\n",
       "   0.0249,\n",
       "   0.024517,\n",
       "   0.024132,\n",
       "   0.023572,\n",
       "   0.022987,\n",
       "   0.022465,\n",
       "   0.021972]},\n",
       " 'validation_1': {'logloss': [0.537808,\n",
       "   0.438888,\n",
       "   0.382873,\n",
       "   0.348106,\n",
       "   0.326625,\n",
       "   0.317599,\n",
       "   0.30746,\n",
       "   0.297761,\n",
       "   0.293163,\n",
       "   0.295117,\n",
       "   0.286569,\n",
       "   0.284259,\n",
       "   0.284876,\n",
       "   0.285029,\n",
       "   0.286391,\n",
       "   0.286797,\n",
       "   0.291159,\n",
       "   0.290621,\n",
       "   0.286691,\n",
       "   0.287366,\n",
       "   0.285339,\n",
       "   0.284718,\n",
       "   0.28464,\n",
       "   0.287578,\n",
       "   0.288981,\n",
       "   0.286007,\n",
       "   0.289105,\n",
       "   0.289212,\n",
       "   0.287605,\n",
       "   0.286616,\n",
       "   0.28343,\n",
       "   0.285463,\n",
       "   0.286199,\n",
       "   0.287471,\n",
       "   0.290298,\n",
       "   0.290952,\n",
       "   0.293242,\n",
       "   0.29258,\n",
       "   0.297082,\n",
       "   0.297528,\n",
       "   0.29727,\n",
       "   0.299448,\n",
       "   0.299255,\n",
       "   0.30007,\n",
       "   0.299892,\n",
       "   0.299952,\n",
       "   0.300999,\n",
       "   0.299226,\n",
       "   0.299904,\n",
       "   0.303673]}}"
      ]
     },
     "execution_count": 19,
     "metadata": {},
     "output_type": "execute_result"
    }
   ],
   "source": [
    "evaluate_result = classifier.evals_result()\n",
    "evaluate_result # Checking format\n",
    "\n"
   ]
  },
  {
   "cell_type": "code",
   "execution_count": 20,
   "metadata": {},
   "outputs": [
    {
     "data": {
      "text/plain": [
       "range(0, 50)"
      ]
     },
     "execution_count": 20,
     "metadata": {},
     "output_type": "execute_result"
    }
   ],
   "source": [
    "rounds = range(len(evaluate_result['validation_0']['logloss']))\n",
    "rounds"
   ]
  },
  {
   "cell_type": "code",
   "execution_count": 21,
   "metadata": {},
   "outputs": [
    {
     "data": {
      "image/png": "[encoded data removed]",
      "text/plain": [
       "<Figure size 432x288 with 1 Axes>"
      ]
     },
     "metadata": {
      "needs_background": "light"
     },
     "output_type": "display_data"
    }
   ],
   "source": [
    "plt.scatter(x = rounds, y = evaluate_result['validation_0']['logloss'], label = 'Training Error')\n",
    "plt.scatter(x = rounds, y = evaluate_result['validation_1']['logloss'], label = 'Validation Error')\n",
    "plt.xlabel('Iterations')\n",
    "plt.ylabel('Logloss')\n",
    "plt.title('Training and Validation Error')\n",
    "plt.legend()\n",
    "plt.grid(True)\n",
    "plt.show()"
   ]
  },
  {
   "cell_type": "markdown",
   "metadata": {},
   "source": [
    "### Check which features are the most important"
   ]
  },
  {
   "cell_type": "code",
   "execution_count": 13,
   "metadata": {},
   "outputs": [
    {
     "data": {
      "text/plain": [
       "<matplotlib.axes._subplots.AxesSubplot at 0x11d689d10>"
      ]
     },
     "execution_count": 13,
     "metadata": {},
     "output_type": "execute_result"
    },
    {
     "data": {
      "image/png": "[encoded data removed]",
      "text/plain": [
       "<Figure size 432x288 with 1 Axes>"
      ]
     },
     "metadata": {
      "needs_background": "light"
     },
     "output_type": "display_data"
    }
   ],
   "source": [
    "xgb.plot_importance(classifier)"
   ]
  },
  {
   "cell_type": "code",
   "execution_count": 16,
   "metadata": {},
   "outputs": [
    {
     "data": {
      "text/plain": [
       "array([0, 1, 0, 0, 1, 0, 1, 0, 0, 0, 0, 1, 1, 0, 0, 0, 1, 0, 0, 1, 0, 0,\n",
       "       0, 1, 0, 0, 0, 1, 0, 0, 0, 0, 0, 1, 1, 1, 0, 0, 0, 1, 0, 0, 0, 0,\n",
       "       1, 0, 0, 1, 0, 0, 0, 0, 0, 1, 0, 0, 0, 1, 0, 0, 1, 1, 0, 0, 0, 0,\n",
       "       1, 0, 0, 0, 0, 1, 0, 1, 0, 0, 0, 0, 0, 0, 0, 1, 0, 0, 0, 0, 1, 0,\n",
       "       1, 0, 1, 1, 1, 0, 0, 0, 0, 0, 0, 1, 0, 0, 0, 0, 1, 1, 1, 0, 0, 0,\n",
       "       0, 0, 0, 0, 1, 0, 0, 0, 0, 1, 0, 1, 1, 0, 0, 0, 1, 1, 0, 1, 0, 0,\n",
       "       1, 0, 0, 0, 0, 0, 0, 0, 0, 0, 0, 0, 1, 0, 1, 1, 0, 0, 0, 1, 1, 0,\n",
       "       0, 1, 0, 1, 1, 0, 1, 1, 1, 0, 0, 1, 0, 0, 1, 0, 0, 1, 1, 1, 1, 0,\n",
       "       0, 0, 0, 0, 1, 0, 0, 0, 1, 0, 0, 0, 0, 0, 1, 1, 1, 1, 0, 1, 0, 0,\n",
       "       0, 0, 0, 0, 0, 0, 0, 0, 0, 1, 0, 0, 1, 0, 0, 0, 0, 0, 0, 0, 0, 0,\n",
       "       1, 0, 0, 1, 1, 1, 0, 1, 0, 1, 1])"
      ]
     },
     "execution_count": 16,
     "metadata": {},
     "output_type": "execute_result"
    }
   ],
   "source": [
    "\n",
    "results = classifier.predict(X_valid)\n",
    "results"
   ]
  },
  {
   "cell_type": "code",
   "execution_count": 17,
   "metadata": {},
   "outputs": [],
   "source": [
    "df_validation['predicted_class'] = results"
   ]
  },
  {
   "cell_type": "code",
   "execution_count": 18,
   "metadata": {},
   "outputs": [
    {
     "data": {
      "text/html": [
       "<div>\n",
       "<style scoped>\n",
       "    .dataframe tbody tr th:only-of-type {\n",
       "        vertical-align: middle;\n",
       "    }\n",
       "\n",
       "    .dataframe tbody tr th {\n",
       "        vertical-align: top;\n",
       "    }\n",
       "\n",
       "    .dataframe thead th {\n",
       "        text-align: right;\n",
       "    }\n",
       "</style>\n",
       "<table border=\"1\" class=\"dataframe\">\n",
       "  <thead>\n",
       "    <tr style=\"text-align: right;\">\n",
       "      <th></th>\n",
       "      <th>diabetes_class</th>\n",
       "      <th>preg_count</th>\n",
       "      <th>glucose_concentration</th>\n",
       "      <th>diastolic_bp</th>\n",
       "      <th>triceps_skin_fold_thickness</th>\n",
       "      <th>two_hr_serum_insulin</th>\n",
       "      <th>bmi</th>\n",
       "      <th>diabetes_pedi</th>\n",
       "      <th>age</th>\n",
       "      <th>predicted_class</th>\n",
       "    </tr>\n",
       "  </thead>\n",
       "  <tbody>\n",
       "    <tr>\n",
       "      <th>0</th>\n",
       "      <td>0</td>\n",
       "      <td>1.000</td>\n",
       "      <td>130.0</td>\n",
       "      <td>70.0</td>\n",
       "      <td>13.000000</td>\n",
       "      <td>105.000000</td>\n",
       "      <td>25.9</td>\n",
       "      <td>0.472</td>\n",
       "      <td>22</td>\n",
       "      <td>0</td>\n",
       "    </tr>\n",
       "    <tr>\n",
       "      <th>1</th>\n",
       "      <td>1</td>\n",
       "      <td>8.000</td>\n",
       "      <td>133.0</td>\n",
       "      <td>72.0</td>\n",
       "      <td>22.164179</td>\n",
       "      <td>100.335821</td>\n",
       "      <td>32.9</td>\n",
       "      <td>0.270</td>\n",
       "      <td>39</td>\n",
       "      <td>1</td>\n",
       "    </tr>\n",
       "    <tr>\n",
       "      <th>2</th>\n",
       "      <td>0</td>\n",
       "      <td>3.298</td>\n",
       "      <td>137.0</td>\n",
       "      <td>68.0</td>\n",
       "      <td>14.000000</td>\n",
       "      <td>148.000000</td>\n",
       "      <td>24.8</td>\n",
       "      <td>0.143</td>\n",
       "      <td>21</td>\n",
       "      <td>0</td>\n",
       "    </tr>\n",
       "    <tr>\n",
       "      <th>3</th>\n",
       "      <td>0</td>\n",
       "      <td>2.000</td>\n",
       "      <td>88.0</td>\n",
       "      <td>74.0</td>\n",
       "      <td>19.000000</td>\n",
       "      <td>53.000000</td>\n",
       "      <td>29.0</td>\n",
       "      <td>0.229</td>\n",
       "      <td>22</td>\n",
       "      <td>0</td>\n",
       "    </tr>\n",
       "    <tr>\n",
       "      <th>4</th>\n",
       "      <td>1</td>\n",
       "      <td>9.000</td>\n",
       "      <td>130.0</td>\n",
       "      <td>70.0</td>\n",
       "      <td>22.164179</td>\n",
       "      <td>100.335821</td>\n",
       "      <td>34.2</td>\n",
       "      <td>0.652</td>\n",
       "      <td>45</td>\n",
       "      <td>1</td>\n",
       "    </tr>\n",
       "  </tbody>\n",
       "</table>\n",
       "</div>"
      ],
      "text/plain": [
       "   diabetes_class  preg_count  glucose_concentration  diastolic_bp  \\\n",
       "0               0       1.000                  130.0          70.0   \n",
       "1               1       8.000                  133.0          72.0   \n",
       "2               0       3.298                  137.0          68.0   \n",
       "3               0       2.000                   88.0          74.0   \n",
       "4               1       9.000                  130.0          70.0   \n",
       "\n",
       "   triceps_skin_fold_thickness  two_hr_serum_insulin   bmi  diabetes_pedi  \\\n",
       "0                    13.000000            105.000000  25.9          0.472   \n",
       "1                    22.164179            100.335821  32.9          0.270   \n",
       "2                    14.000000            148.000000  24.8          0.143   \n",
       "3                    19.000000             53.000000  29.0          0.229   \n",
       "4                    22.164179            100.335821  34.2          0.652   \n",
       "\n",
       "   age  predicted_class  \n",
       "0   22                0  \n",
       "1   39                1  \n",
       "2   21                0  \n",
       "3   22                0  \n",
       "4   45                1  "
      ]
     },
     "execution_count": 18,
     "metadata": {},
     "output_type": "execute_result"
    }
   ],
   "source": [
    "df_validation.head()"
   ]
  },
  {
   "cell_type": "code",
   "execution_count": 19,
   "metadata": {},
   "outputs": [
    {
     "name": "stdout",
     "output_type": "stream",
     "text": [
      "              precision    recall  f1-score   support\n",
      "\n",
      "    Diabetic       0.85      0.78      0.82        79\n",
      "      Normal       0.89      0.93      0.91       152\n",
      "\n",
      "    accuracy                           0.88       231\n",
      "   macro avg       0.87      0.86      0.86       231\n",
      "weighted avg       0.88      0.88      0.88       231\n",
      "\n"
     ]
    }
   ],
   "source": [
    "print(classification_report(\n",
    "    df_validation['diabetes_class'],\n",
    "    df_validation['predicted_class'],\n",
    "    labels=[1,0],\n",
    "    target_names=['Diabetic','Normal']))"
   ]
  },
  {
   "cell_type": "markdown",
   "metadata": {},
   "source": [
    "### Save the model\n"
   ]
  },
  {
   "cell_type": "code",
   "execution_count": 20,
   "metadata": {},
   "outputs": [
    {
     "ename": "NameError",
     "evalue": "name 'pickle' is not defined",
     "output_type": "error",
     "traceback": [
      "\u001b[0;31m---------------------------------------------------------------------------\u001b[0m",
      "\u001b[0;31mNameError\u001b[0m                                 Traceback (most recent call last)",
      "\u001b[0;32m<ipython-input-20-5a4ebf110f4c>\u001b[0m in \u001b[0;36m<module>\u001b[0;34m\u001b[0m\n\u001b[1;32m      1\u001b[0m \u001b[0mfilename\u001b[0m \u001b[0;34m=\u001b[0m \u001b[0;34m'diabetes_xgboost_local_model.sav'\u001b[0m\u001b[0;34m\u001b[0m\u001b[0;34m\u001b[0m\u001b[0m\n\u001b[0;32m----> 2\u001b[0;31m \u001b[0mpickle\u001b[0m\u001b[0;34m.\u001b[0m\u001b[0mdump\u001b[0m\u001b[0;34m(\u001b[0m\u001b[0mclassifer\u001b[0m\u001b[0;34m,\u001b[0m \u001b[0mopen\u001b[0m\u001b[0;34m(\u001b[0m\u001b[0mfilename\u001b[0m\u001b[0;34m,\u001b[0m \u001b[0;34m'wb'\u001b[0m\u001b[0;34m)\u001b[0m\u001b[0;34m)\u001b[0m\u001b[0;34m\u001b[0m\u001b[0;34m\u001b[0m\u001b[0m\n\u001b[0m\u001b[1;32m      3\u001b[0m \u001b[0;34m\u001b[0m\u001b[0m\n\u001b[1;32m      4\u001b[0m \u001b[0;34m\u001b[0m\u001b[0m\n\u001b[1;32m      5\u001b[0m \u001b[0;34m\u001b[0m\u001b[0m\n",
      "\u001b[0;31mNameError\u001b[0m: name 'pickle' is not defined"
     ]
    }
   ],
   "source": [
    "\n",
    "filename = 'diabetes_xgboost_local_model.sav'\n",
    "pickle.dump(classifer, open(filename, 'wb'))\n",
    " \n",
    "\n",
    "\n"
   ]
  },
  {
   "cell_type": "markdown",
   "metadata": {},
   "source": [
    "### Load the model from disk"
   ]
  },
  {
   "cell_type": "code",
   "execution_count": null,
   "metadata": {},
   "outputs": [],
   "source": [
    "\n",
    "\n",
    "# loaded_diabetes_xgboost_local_model = pickle.load(open(filename, 'rb'))\n",
    "\n",
    "\n",
    "# result = loaded_diabetes_xgboost_local_model.score(X_test, Y_test)\n",
    "# print(result)\n",
    " "
   ]
  },
  {
   "cell_type": "code",
   "execution_count": null,
   "metadata": {},
   "outputs": [],
   "source": []
  },
  {
   "cell_type": "code",
   "execution_count": null,
   "metadata": {},
   "outputs": [],
   "source": []
  }
 ],
 "metadata": {
  "kernelspec": {
   "display_name": "Python 3",
   "language": "python",
   "name": "python3"
  },
  "language_info": {
   "codemirror_mode": {
    "name": "ipython",
    "version": 3
   },
   "file_extension": ".py",
   "mimetype": "text/x-python",
   "name": "python",
   "nbconvert_exporter": "python",
   "pygments_lexer": "ipython3",
   "version": "3.7.9"
  }
 },
 "nbformat": 4,
 "nbformat_minor": 4
}
